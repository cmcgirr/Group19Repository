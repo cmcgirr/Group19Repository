{
 "cells": [
  {
   "cell_type": "code",
   "execution_count": 3,
   "metadata": {},
   "outputs": [
    {
     "name": "stdin",
     "output_type": "stream",
     "text": [
      "Please enter your name:  Ryan\n",
      "What school do you attend:  Pitt\n"
     ]
    },
    {
     "name": "stdout",
     "output_type": "stream",
     "text": [
      "So your name is Ryan and you go to school at Pitt\n"
     ]
    }
   ],
   "source": [
    "name = input(\"Please enter your name: \")\n",
    "edu = input(\"What school do you attend: \")\n",
    "print (\"So your name is\", name, \"and you go to school at\", edu)"
   ]
  },
  {
   "cell_type": "code",
   "execution_count": null,
   "metadata": {},
   "outputs": [],
   "source": []
  }
 ],
 "metadata": {
  "kernelspec": {
   "display_name": "Python 3",
   "language": "python",
   "name": "python3"
  },
  "language_info": {
   "codemirror_mode": {
    "name": "ipython",
    "version": 3
   },
   "file_extension": ".py",
   "mimetype": "text/x-python",
   "name": "python",
   "nbconvert_exporter": "python",
   "pygments_lexer": "ipython3",
   "version": "3.8.3"
  }
 },
 "nbformat": 4,
 "nbformat_minor": 4
}

{
 "cells": [
  {
   "cell_type": "code",
   "execution_count": 6,
   "metadata": {},
   "outputs": [
    {
     "name": "stdout",
     "output_type": "stream",
     "text": [
      "Please enter your name: 55\n",
      "What school do you attend: 33\n",
      "Sorry, only alphabet characters are accepted.\n",
      "Please enter your name: Drew\n",
      "What school do you attend: Pitt\n",
      "So your name is Drew and you go to school at Pitt\n"
     ]
    }
   ],
   "source": [
    "loop_not_ended = True\n",
    "while loop_not_ended:\n",
    "    name = input(\"Please enter your name: \")\n",
    "    edu = input(\"What school do you attend: \")\n",
    "    if name.isalpha() and edu.isalpha():\n",
    "        loop_not_ended = False\n",
    "        print (\"So your name is\", name, \"and you go to school at\", edu)\n",
    "    else:\n",
    "        print(\"Sorry, only alphabet characters are accepted.\")"
   ]
  },
  {
   "cell_type": "code",
   "execution_count": null,
   "metadata": {},
   "outputs": [],
   "source": [
    "##"
   ]
  }
 ],
 "metadata": {
  "kernelspec": {
   "display_name": "Python 3 (ipykernel)",
   "language": "python",
   "name": "python3"
  },
  "language_info": {
   "codemirror_mode": {
    "name": "ipython",
    "version": 3
   },
   "file_extension": ".py",
   "mimetype": "text/x-python",
   "name": "python",
   "nbconvert_exporter": "python",
   "pygments_lexer": "ipython3",
   "version": "3.9.7"
  }
 },
 "nbformat": 4,
 "nbformat_minor": 4
}
